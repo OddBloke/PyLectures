{
 "cells": [
  {
   "cell_type": "markdown",
   "metadata": {},
   "source": [
    "# Getting Started\n",
    "#### Data Types, Basic Syntax and Behaviours"
   ]
  },
  {
   "cell_type": "markdown",
   "metadata": {},
   "source": [
    "- __Variables__ are assigned using the \"=\" sign with a name on the left and a data input on the right.<br>\n",
    "- __Variables__ cannot have spaces and should not have any punctuation in their names<br>\n",
    "- __Variables__ should follow an intuitive naming scheme<br>\n",
    "- __Variables__ should either be written with_underscores, orAsCamelCase<br>\n",
    "\n",
    "__Example__<br>\n",
    "Totally Awesome:\n",
    ">goodVarName = \"Mark is happy and not repressing murderous thoughts\"\n",
    "\n",
    "Total Jerk Move:\n",
    "> ×,.·´¨'°÷·..§IsUcKaTvArIaBlEnAmeS§.·´¨'°÷·..× = \"literally the worst\""
   ]
  },
  {
   "cell_type": "code",
   "execution_count": null,
   "metadata": {},
   "outputs": [],
   "source": [
    "this_is_a_variable_name_string = \"This is a string\""
   ]
  },
  {
   "cell_type": "code",
   "execution_count": null,
   "metadata": {},
   "outputs": [],
   "source": [
    "thisIsAVariableName = 1234567"
   ]
  },
  {
   "cell_type": "markdown",
   "metadata": {},
   "source": [
    "Use logical naming conventions with multiple variables<br>\n",
    "You're technically not supposed to mix camelcase and underscores ... but if you make it readable no one will fight you.<br>\n"
   ]
  },
  {
   "cell_type": "code",
   "execution_count": null,
   "metadata": {
    "collapsed": true
   },
   "outputs": [],
   "source": [
    "var_1 = 1\n",
    "var_2 = 2\n",
    "var_1And2 = var1, var2\n",
    "print(var_1And2)"
   ]
  },
  {
   "cell_type": "markdown",
   "metadata": {},
   "source": [
    "To save variable name into memory, run your python code by pressing the run button in your IDE.<br>\n",
    "You have the option to run either a selection (f9 in spyder) or the entire program (f5 in spyder).<br>\n",
    "To show the value associated with the variable in memory, wrap the variable name in the print function.\n"
   ]
  },
  {
   "cell_type": "code",
   "execution_count": null,
   "metadata": {
    "collapsed": true
   },
   "outputs": [],
   "source": [
    "print(\"I'm a bunch of words\")\n",
    "\n",
    "#or\n",
    "\n",
    "happy_var = \"clap along if you feel like a room without a roof\"\n",
    "print(happy_var)"
   ]
  },
  {
   "cell_type": "markdown",
   "metadata": {},
   "source": [
    "__Quick Talk - Data Types or Classes__\n",
    "- Strings, numbers, booleans and others ...\n",
    "- Behaviours\n",
    "- type()"
   ]
  },
  {
   "cell_type": "code",
   "execution_count": null,
   "metadata": {
    "collapsed": true
   },
   "outputs": [],
   "source": [
    "print(type(\"I'm a string and have the class type of string (str)\"))"
   ]
  },
  {
   "cell_type": "code",
   "execution_count": null,
   "metadata": {
    "collapsed": true
   },
   "outputs": [],
   "source": [
    "my_num = 1234\n",
    "print(type(my_num))"
   ]
  },
  {
   "cell_type": "markdown",
   "metadata": {},
   "source": [
    "Strings - collection of type characters treated as 1 object.<br>\n",
    "Characters are grouped into strings using either \" \" or ' '<br>\n",
    "Don't MISMATCH quotes<br>\n"
   ]
  },
  {
   "cell_type": "code",
   "execution_count": null,
   "metadata": {},
   "outputs": [],
   "source": [
    "\"i'm a string with a quote in it\""
   ]
  },
  {
   "cell_type": "code",
   "execution_count": null,
   "metadata": {},
   "outputs": [],
   "source": [
    "'i'm a string that doesn't work properly'"
   ]
  },
  {
   "cell_type": "markdown",
   "metadata": {},
   "source": [
    "Example of multi-line string (also able to function as standalone comment)"
   ]
  },
  {
   "cell_type": "code",
   "execution_count": null,
   "metadata": {
    "collapsed": true
   },
   "outputs": [],
   "source": [
    "'''\n",
    "I'm a string\n",
    "but on a bunch of \n",
    "different lines.\n",
    "'''"
   ]
  },
  {
   "cell_type": "code",
   "execution_count": null,
   "metadata": {
    "collapsed": true
   },
   "outputs": [],
   "source": [
    "not_a_string = 1234\n",
    "print(str(not_a_string))"
   ]
  },
  {
   "cell_type": "markdown",
   "metadata": {},
   "source": [
    "String Operators:<br>\n",
    "- print example\n",
    "- passing multiple values to print using commas\n",
    "- new line character\n",
    "- concatenation by adding strings\n",
    "- tab character\n"
   ]
  },
  {
   "cell_type": "code",
   "execution_count": null,
   "metadata": {
    "collapsed": true
   },
   "outputs": [],
   "source": [
    "print(\"My Anaconda\")\n",
    "print(\"don't\", \"want\", \"none\")\n",
    "print(\"--unless \\n--you\")\n",
    "print(\"c\"+\"o\"+\"n\"+\"c\"+\"a\"+\"t\"+\"e\"+\"n\"+\"a\"+\"t\"+\"e\")\n",
    "print(\"\\t for fun!\")\n"
   ]
  },
  {
   "cell_type": "code",
   "execution_count": null,
   "metadata": {
    "collapsed": true
   },
   "outputs": [],
   "source": [
    "color_that_ends_in_urple = \"yellurple\"\n",
    "col = color_that_ends_in_urple\n",
    "print(\"'\"+col+\"'\",\"is obviously not a color\")"
   ]
  },
  {
   "cell_type": "markdown",
   "metadata": {},
   "source": [
    "# Indexing\n",
    "#### Introduction to Scope and Iterable Navigation"
   ]
  },
  {
   "cell_type": "markdown",
   "metadata": {},
   "source": [
    "__Hard but accurate explanation:__ An iterable is a python object with a working iter method<br>\n",
    "__Easy but less accurate explanation:__ An iterable is something with an identifiable whole number length of 1 or more which can be iterated through<br>\n",
    "\n",
    "__Example__\n",
    "- \"Spoon\" can be sliced and iterated through as:\n",
    ">- \"S\" (index 0)\n",
    ">- \"p\" (index 1)\n",
    ">- \"o\" (index 2)\n",
    ">- \"o\" (index 3)\n",
    ">- \"n\" (index 4)"
   ]
  },
  {
   "cell_type": "code",
   "execution_count": null,
   "metadata": {
    "collapsed": true
   },
   "outputs": [],
   "source": [
    "col = \"purple\"\n",
    "print(col[2] + col[1] + col[4] + col[5] + col[2])"
   ]
  },
  {
   "cell_type": "code",
   "execution_count": null,
   "metadata": {
    "collapsed": true
   },
   "outputs": [],
   "source": [
    "col= \"purple\"\n",
    "print(\"Starting from index 1 until end of variable:\\n--\",col[1:])\n",
    "print(\"Starting from index the begining until and not including index 4:\\n--\",col[:4])\n",
    "print(\"Index 1 to and not including 4 in steps of 2:\\n--\",col[1:4:2])\n",
    "print(\"Backwards:\\n--\",col[::-1])\n",
    "print(\"Reverse order:\\n--\",col[-4:])"
   ]
  },
  {
   "cell_type": "markdown",
   "metadata": {},
   "source": [
    "Strings as data types are immutable (a word that will come up alot) which means they can't have values or components reassigned.\n",
    "\n",
    "1. trying to spell \"yellurple\" the wrong way\n",
    "2. trying to spell \"yellurple\" the right way"
   ]
  },
  {
   "cell_type": "code",
   "execution_count": null,
   "metadata": {
    "collapsed": true
   },
   "outputs": [],
   "source": [
    "col = \"purple\"\n",
    "col[0] = \"yell\""
   ]
  },
  {
   "cell_type": "code",
   "execution_count": null,
   "metadata": {
    "collapsed": true
   },
   "outputs": [],
   "source": [
    "col = \"purple\"\n",
    "col = \"yell\"+col[1:]\n",
    "print(\"'\"+col+\"'\", \"is still not a color Mark!\")"
   ]
  },
  {
   "cell_type": "markdown",
   "metadata": {},
   "source": [
    "As we saw the __+__ sign __concatenates__ strings together.<br>\n",
    "The __*__ symbol (which stands for multiplication in coding) __concatenates MULTIPLE copies__ at once"
   ]
  },
  {
   "cell_type": "code",
   "execution_count": null,
   "metadata": {
    "collapsed": true
   },
   "outputs": [],
   "source": [
    "terrible_background_lyrics = \"Ooga-Chaka \"\n",
    "print(terrible_background_lyrics*8)\n",
    "print(\"I can't stop this feeling! Deep insiiiiide of me\")"
   ]
  },
  {
   "cell_type": "markdown",
   "metadata": {},
   "source": [
    "len() returns the length of an item based on scope (the next lowest divisible level of the queries object)<br>\n",
    "\n",
    "__Example__<br>\n",
    "\n",
    ">- Apartment Building(1) \n",
    ">- Floors(15)\n",
    ">- Apartments(300)\n",
    ">- Rooms(600)\n",
    ">- Square Feet(600000)"
   ]
  },
  {
   "cell_type": "code",
   "execution_count": null,
   "metadata": {
    "collapsed": true
   },
   "outputs": [],
   "source": [
    "len(col)"
   ]
  },
  {
   "cell_type": "code",
   "execution_count": null,
   "metadata": {},
   "outputs": [],
   "source": [
    "### Scope example in Python (not using class assignment)\n",
    "### We'll understand all the symbols later on, \n",
    "### for now just grasp that apartment building is 1 python object, made of floors, with apartments, with rooms\n",
    "apartment_building = {\"floor 1\":[(\"apt1_room1, apt1_room2\", \"apt1_room3\"), \n",
    "                                 (\"apt2_room1, apt2_room2\", \"apt2_room3\")]\n",
    "                     }"
   ]
  },
  {
   "cell_type": "markdown",
   "metadata": {},
   "source": [
    "# Methods\n",
    "#### class methods by data type"
   ]
  },
  {
   "cell_type": "markdown",
   "metadata": {},
   "source": [
    "\"Class methods\" are functions that are tied to python objects based on their class.<br>\n",
    "Think of a class as a person(object) and methods as the job tasks. You're limiting behaviours to objects which are able to handle them. You can build these ou with advanced skills but python comes with many \"prebuilt\".\n",
    "\n",
    "__Example__\n",
    ">- class FireFighter()\n",
    ">- def run_into_building() (def stands for define and is how you create functions and methods in Python)\n",
    "\n",
    "You wouldn't let an accountant run blindly into a flaming building because that's a skill only held by a firefighter. In the same way you can't make a number upper-case because that's a skill only held by characters.\n",
    "\n",
    "Access class methods with . after the target object and press tab for the available methods."
   ]
  },
  {
   "cell_type": "code",
   "execution_count": null,
   "metadata": {
    "collapsed": true
   },
   "outputs": [],
   "source": [
    "col = \"purple\"\n",
    "print(\"Join a string with another string:\\n--\",col.join(\"12345\"))\n",
    "print(\"Make whole word uppercase:\\n--\",col.upper())\n",
    "print(\"number of 'p's in purple:\\n--\",col.count(\"p\"))\n",
    "print(\"get the index location of u:\\n--\",col.index(\"u\"))"
   ]
  },
  {
   "cell_type": "code",
   "execution_count": null,
   "metadata": {
    "collapsed": true
   },
   "outputs": [],
   "source": [
    "# format method\n",
    "my_p = \"My {} brings all the {} to the {}\".format('python', \"nerds\", \"yard\")\n",
    "print(my_p)"
   ]
  },
  {
   "cell_type": "code",
   "execution_count": null,
   "metadata": {
    "collapsed": true
   },
   "outputs": [],
   "source": [
    "print(\"Remove white space:\",\"  Busines  \".strip())\n",
    "print(\"Does string start with?:\", my_p.startswith(\"My\"))\n",
    "print(\"Does string end with?:\", my_p.endswith(\"yard\"))\n",
    "print(\"Locate index of word:\", my_p.find(\"the\"))\n",
    "print(\"Replace part of a string:\", my_p.replace(\"nerds\", \"members of the gender(s) with which I find myself enamored\"))\n",
    "print(\"Split a string into a list:\", my_p.split(\" \"))"
   ]
  },
  {
   "cell_type": "markdown",
   "metadata": {},
   "source": [
    "# Numbers"
   ]
  },
  {
   "cell_type": "markdown",
   "metadata": {},
   "source": [
    "Python uses numbers in a very obvious and straight forward way.<br>\n",
    "Python distinguishes between whole numbers and decimals as integers and floats respectively.<br>\n",
    "__WARNING!__ Python 2 doesn't change data types in evaluation! __Remember this!!__"
   ]
  },
  {
   "cell_type": "code",
   "execution_count": null,
   "metadata": {},
   "outputs": [],
   "source": [
    "#Types of numbers\n",
    "\n",
    "#Integers\n",
    "1234\n",
    "\n",
    "#Floats\n",
    "1.234"
   ]
  },
  {
   "cell_type": "markdown",
   "metadata": {
    "collapsed": true
   },
   "source": [
    "# Basic Arithmetic \n",
    "#### Mathematical Operators"
   ]
  },
  {
   "cell_type": "code",
   "execution_count": null,
   "metadata": {
    "collapsed": true
   },
   "outputs": [],
   "source": [
    "print(1+2+3+4)\n",
    "print(1-2-3-4)\n",
    "print(1*2*3*4)\n",
    "print(1/2/3/4)"
   ]
  },
  {
   "cell_type": "markdown",
   "metadata": {},
   "source": [
    "__Python 2:__<br>\n",
    ">- 3/2 returns 1\n",
    ">- float(3)/float(2) returns 1.5\n",
    "\n",
    "__Python 3:__\n",
    ">- 3/2 returns 1.5\n"
   ]
  },
  {
   "cell_type": "markdown",
   "metadata": {},
   "source": [
    "Use paranthesis to change order of operations (BEDMAS)"
   ]
  },
  {
   "cell_type": "code",
   "execution_count": null,
   "metadata": {
    "collapsed": true
   },
   "outputs": [],
   "source": [
    "bedmas = 1 + 5 / 20 * 6\n",
    "print(\"1 + 5 / 20 * 6 =\",bedmas)\n",
    "\n",
    "parenthesis = (1+5) / (20*6)\n",
    "print(\"(1+5) / (20*6) =\",parenthesis)"
   ]
  },
  {
   "cell_type": "markdown",
   "metadata": {},
   "source": [
    "Variables behave like their assigned values<br>\n",
    "__Remember:__ Strings are not numbers"
   ]
  },
  {
   "cell_type": "code",
   "execution_count": null,
   "metadata": {
    "collapsed": true
   },
   "outputs": [],
   "source": [
    "a = 123\n",
    "b = 456\n",
    "print(\"Numbers:\",a + b)\n",
    "\n",
    "a = \"123\"\n",
    "b= \"456\"\n",
    "print(\"Not Numbers:\",a+b)"
   ]
  },
  {
   "cell_type": "markdown",
   "metadata": {},
   "source": [
    "Numeric values have no \"length\" in that they are not iterable by indexed position. <br>\n",
    "A number is a quantified and absolute value between -∞ and ∞"
   ]
  },
  {
   "cell_type": "code",
   "execution_count": null,
   "metadata": {
    "collapsed": true
   },
   "outputs": [],
   "source": [
    "print(len(579.09))"
   ]
  },
  {
   "cell_type": "code",
   "execution_count": null,
   "metadata": {
    "collapsed": true
   },
   "outputs": [],
   "source": [
    "print(579.09[2])"
   ]
  },
  {
   "cell_type": "markdown",
   "metadata": {},
   "source": [
    "If you plan on being n electrical engineer, complex numbers may be beneficial ... for literally everyone else you can move on in life."
   ]
  },
  {
   "cell_type": "code",
   "execution_count": null,
   "metadata": {
    "collapsed": true
   },
   "outputs": [],
   "source": [
    "comp_num = 1+3j\n",
    "type(comp_num)"
   ]
  },
  {
   "cell_type": "markdown",
   "metadata": {},
   "source": [
    "# Boolean Values and Logical Operators"
   ]
  },
  {
   "cell_type": "markdown",
   "metadata": {},
   "source": [
    "Comparison Operators:\n",
    "\n",
    "- equals (evaluative):==\n",
    "- does not equal: !=\n",
    "- greater than or equal: >=\n",
    "- greater than: >\n",
    "- less than or equal: <=\n",
    "- less than: <\n",
    "\n",
    "__Special Mention:__\n",
    "\"is\" and \"is not\""
   ]
  },
  {
   "cell_type": "code",
   "execution_count": null,
   "metadata": {
    "collapsed": true
   },
   "outputs": [],
   "source": [
    "# 1\n",
    "print(\"1. Is Miley Cyrus Talented?:\",\n",
    "      \"Miley Cyrus\" == \"Talented\")\n",
    "\n",
    "# 2\n",
    "Mark_guitar_rating = 9.9\n",
    "VanHalen_guitar_rating = 9.9\n",
    "\n",
    "print(\"2. Is Mark as good at guitar as Eddie VanHalen?:\",\n",
    "     Mark_guitar_rating == VanHalen_guitar_rating)\n",
    "\n",
    "# 3 & 4\n",
    "#Alcohol (L) consumed by marketing students\n",
    "mrkt = 100\n",
    "#Alcohol (L) consumed by all other students\n",
    "other = 20\n",
    "print(\"3. Do marketing students drink more than other students?:\",\n",
    "     mrkt > other)\n",
    "print(\"4. Do other students drink more than or the same as marketing students?:\",\n",
    "     mrkt <= other)\n",
    "\n",
    "# 5\n",
    "#breakdowns before learning python\n",
    "before = 0\n",
    "#breakdowns after learning python\n",
    "after = 120578\n",
    "print(\"5. People who learn to code have routine psychotic breakdowns:\",\n",
    "     before != after)\n",
    "# 6\n",
    "color = \"Blueurple\"\n",
    "other_color = \"Blue\"\n",
    "print(\"6. Is Blue in the variable color?\", other_color in color)\n",
    "\n",
    "#7\n",
    "# reference equality vs value equality\n",
    "mark = \"generally good looking\"\n",
    "print(\"7. Is mark generally good looking?\", mark is \"generally good looking\")\n",
    "print(\" \")\n",
    "print(\"Location of mark variable in memory:\", id(mark))\n",
    "print(\"Location of new string that says same thing as mark variable in memory:\", id(\"generally good looking\"))\n",
    "print(\"Is mark variable mark variable?\", mark is mark)"
   ]
  },
  {
   "cell_type": "markdown",
   "metadata": {},
   "source": [
    "\"in\" and \"not in\" test for membership based on scope. \"Is this smaller thing inside this bigger thing?\"<br>\n",
    "... that's what he said. "
   ]
  },
  {
   "cell_type": "code",
   "execution_count": null,
   "metadata": {
    "collapsed": true
   },
   "outputs": [],
   "source": [
    "print(\"Meat in Hotdogs?:\",\n",
    "      \"Literally anything resembling meat\" in \"Hotdog\")\n",
    "print(\"The Beatles still together?:\",\n",
    "      \"Paul McCartney\" not in \"The Beatles\")\n",
    "print(\"Chicken in chicken soup?\",\n",
    "     \"chicken\" in \"chicken soup\")"
   ]
  },
  {
   "cell_type": "markdown",
   "metadata": {},
   "source": [
    "\"and\" and \"or\" statements give the option for multiple items to be evaluated"
   ]
  },
  {
   "cell_type": "code",
   "execution_count": null,
   "metadata": {
    "collapsed": true
   },
   "outputs": [],
   "source": [
    "# notice brackets for order of operations in evaluation\n",
    "print((\"oompa\" or \"chocolate\") and (\"loompa\" or \"thematic lessons in gluttony\") in \"oompa loompa\")"
   ]
  },
  {
   "cell_type": "code",
   "execution_count": null,
   "metadata": {
    "collapsed": true
   },
   "outputs": [],
   "source": [
    "# with numbers ...\n",
    "print((1+3 or 2+20) and (2+2 or 55-20) == 4)"
   ]
  },
  {
   "cell_type": "markdown",
   "metadata": {},
   "source": [
    "## Practice Time!"
   ]
  },
  {
   "cell_type": "markdown",
   "metadata": {},
   "source": [
    "1. Given the string \"I like pizza\", how would we test if the words \"I\" and \"pizza\" or \"like\" are in that string?\n",
    "2. Using parenthesis and class assignment functions, make 3.956 + 2 * 5 = 55555.0\n",
    ">- str() for string\n",
    ">- int() for integer\n",
    ">- float() for decimal numbers\n",
    "3. Using indexing, take the string \"The sound made by cows\" and spell \"moo\"\n",
    "4. Use some string methods to do cool stuff!"
   ]
  }
 ],
 "metadata": {
  "kernelspec": {
   "display_name": "Python 3",
   "language": "python",
   "name": "python3"
  },
  "language_info": {
   "codemirror_mode": {
    "name": "ipython",
    "version": 3
   },
   "file_extension": ".py",
   "mimetype": "text/x-python",
   "name": "python",
   "nbconvert_exporter": "python",
   "pygments_lexer": "ipython3",
   "version": "3.6.3"
  }
 },
 "nbformat": 4,
 "nbformat_minor": 2
}
