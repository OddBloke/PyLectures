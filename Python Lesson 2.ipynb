{
 "cells": [
  {
   "cell_type": "markdown",
   "metadata": {},
   "source": [
    "# Grouping Variables"
   ]
  },
  {
   "cell_type": "markdown",
   "metadata": {},
   "source": [
    "#### Lists, Dictionaries, Tuples and Sets"
   ]
  },
  {
   "cell_type": "markdown",
   "metadata": {},
   "source": [
    "In order to work with a multitude of information at once, we can group related elements together different ways. Lists can be indexed and operated on similarly to how strings behaved earlier, but add an extra layer of \"scope\"."
   ]
  },
  {
   "cell_type": "code",
   "execution_count": null,
   "metadata": {},
   "outputs": [],
   "source": [
    "list_of_lyrics = [\"If I had a million dollars\",\n",
    "                  \"We wouldn’t have to eat Kraft dinner\",\n",
    "                  \"But we would eat Kraft dinner\",\n",
    "                  \"Of course we would, we’d just eat more\"]\n",
    "\n",
    "print(\"Printed 1 row at a time:\\n\",\n",
    "      list_of_lyrics[0]+\"\\n\",\n",
    "      list_of_lyrics[1]+\"\\n\",\n",
    "      list_of_lyrics[2]+\"\\n\",\n",
    "      list_of_lyrics[3]+\"\\n\")\n",
    "\n",
    "print(\"Printed 2 rows at a time:\")\n",
    "print(*list_of_lyrics[0:2])\n",
    "print(*list_of_lyrics[2:4])\n",
    "\n",
    "print(\"Printing every second row:\")\n",
    "print(*list_of_lyrics[0:4:2])"
   ]
  },
  {
   "cell_type": "markdown",
   "metadata": {},
   "source": [
    "#### Unpacking Values "
   ]
  },
  {
   "cell_type": "markdown",
   "metadata": {},
   "source": [
    "The * infront of our list is a Python symbol for \"unpacking\". Basically unpacking takes everything \"out\" of a list and feeds it 1 by 1 into our function. You can unpack items 2 ways:\n",
    "> - Assigning variables to all items <br>\n",
    "> - Using the \\* and \\** operators to feed values into functions"
   ]
  },
  {
   "cell_type": "code",
   "execution_count": null,
   "metadata": {},
   "outputs": [],
   "source": [
    "# variable assignment\n",
    "things_monkeys_eat = [\"bananas\", \"leaves\", \"stuff that comes out of other monkeys\"]\n",
    "mky_eats_1, mky_eats_2, mky_eats_3 = things_monkeys_eat\n",
    "\n",
    "print(\"First unpacked variables:\",mky_eats_1)\n",
    "print(\"Second unpacked variable:\",mky_eats_2)\n",
    "print(\"Third unpacked variable:\",mky_eats_3)\n",
    "\n",
    "# Unpack operator *\n",
    "print(\"This is 1 list:\",things_monkeys_eat) ## gave 1 argument ... a list\n",
    "print(\"This is 3 strings (technically as a tuple):\",*things_monkeys_eat) ## gave 3 arguments ... 3 strings"
   ]
  },
  {
   "cell_type": "markdown",
   "metadata": {},
   "source": [
    "#### Creating list from variables"
   ]
  },
  {
   "cell_type": "code",
   "execution_count": null,
   "metadata": {},
   "outputs": [],
   "source": [
    "#Wierd Al: White and Nerdy\n",
    "\n",
    "lyrics1 = \"1 \"+\"My rims never spin, to the contrary\"\n",
    "lyrics2 = \"2 \"+\"You'll find that they're quite stationary\"\n",
    "lyrics3 = \"3 \"+\"All of my action figures are cherry\"\n",
    "lyrics4 = \"4 \"+\"Stephen Hawking's in my library\"\n",
    "\n",
    "list_of_lyrics = [lyrics1, lyrics2, lyrics3, lyrics4]\n",
    "\n",
    "print(list_of_lyrics)"
   ]
  },
  {
   "cell_type": "markdown",
   "metadata": {},
   "source": [
    "#### Using evaluative operators on lists"
   ]
  },
  {
   "cell_type": "code",
   "execution_count": null,
   "metadata": {},
   "outputs": [],
   "source": [
    "print(\"Is the first verse in our lyrics list?:\", lyrics1 in list_of_lyrics)\n",
    "print(\"Is the second verse or the word potato in our lyrics list?:\",\n",
    "      (lyrics2 or \"potato\") in list_of_lyrics)\n",
    "print(\"Are the words for verse 4 the same as 3rd index in our list?:\",\n",
    "      \"4 Stephen Hawking's in my library\" == list_of_lyrics[3])"
   ]
  },
  {
   "cell_type": "markdown",
   "metadata": {},
   "source": [
    "#### Using built in functions on lists\n",
    "> - len\n",
    "> - min and max"
   ]
  },
  {
   "cell_type": "code",
   "execution_count": null,
   "metadata": {},
   "outputs": [],
   "source": [
    "print(\"Length of our list:\",len(list_of_lyrics))\n",
    "print(list_of_lyrics, \"\\n\")\n",
    "\n",
    "print(\"Length of the first item in our list:\",len(list_of_lyrics[0]))\n",
    "print(list_of_lyrics[0], \"\\n\")\n",
    "\n",
    "print(\"Length of the first 10 characters of the first item in our list:\", len(list_of_lyrics[0][0:10]))\n",
    "print(list_of_lyrics[0][0:10], \"\\n\")"
   ]
  },
  {
   "cell_type": "code",
   "execution_count": null,
   "metadata": {},
   "outputs": [],
   "source": [
    "verses = [1,2,3,4]\n",
    "print(\"max number of verses:\",max(verses))\n",
    "print(\"min number of verses:\",min(verses))"
   ]
  },
  {
   "cell_type": "markdown",
   "metadata": {},
   "source": [
    "#### Editing our lists"
   ]
  },
  {
   "cell_type": "code",
   "execution_count": null,
   "metadata": {},
   "outputs": [],
   "source": [
    "#Add item to our list (no variable assignment)\n",
    "print(list_of_lyrics + [\"5 \"+\"My Pythoning skills are extraordinary\"])"
   ]
  },
  {
   "cell_type": "code",
   "execution_count": null,
   "metadata": {},
   "outputs": [],
   "source": [
    "# appending items to our list (permanent)\n",
    "list_of_lyrics.append(\"6 learning lists is necessary\")\n",
    "print(list_of_lyrics)"
   ]
  },
  {
   "cell_type": "markdown",
   "metadata": {},
   "source": [
    "# Methods"
   ]
  },
  {
   "cell_type": "code",
   "execution_count": null,
   "metadata": {
    "scrolled": true
   },
   "outputs": [],
   "source": [
    "popped_lyric = list_of_lyrics.pop()\n",
    "print(\"Popped lyric row:\",popped_lyric)\n",
    "print(\"Remaining list\", list_of_lyrics)"
   ]
  },
  {
   "cell_type": "code",
   "execution_count": null,
   "metadata": {},
   "outputs": [],
   "source": [
    "list_of_lyrics.insert(0,\"0 \"+\"My Pythoning skills are extraordinary\")\n",
    "print(\"Inserted lyric at index 0:\"+\"\\n\",list_of_lyrics,\"\\n\")\n",
    "\n",
    "list_of_lyrics.remove(list_of_lyrics[0])\n",
    "print(\"Removed lyric at index 0:\"+\"\\n\", list_of_lyrics,\"\\n\")"
   ]
  },
  {
   "cell_type": "code",
   "execution_count": null,
   "metadata": {},
   "outputs": [],
   "source": [
    "lyrics = [\"When\", \"The\", \"List's\", \"Too\", \"Big\", \"You\", \"Gotta ...\"]\n",
    "lyrics.extend([\"pop it like it's hot\"]*3)\n",
    "print(lyrics)"
   ]
  },
  {
   "cell_type": "code",
   "execution_count": null,
   "metadata": {},
   "outputs": [],
   "source": [
    "lyrics.sort()\n",
    "print(*lyrics)\n",
    "\n",
    "import random\n",
    "my_randoms = random.sample(range(100), 10)\n",
    "print(\"Unsorted:\",*my_randoms)\n",
    "my_randoms.sort()\n",
    "print(\"Sorted:\",*my_randoms)"
   ]
  },
  {
   "cell_type": "code",
   "execution_count": null,
   "metadata": {},
   "outputs": [],
   "source": [
    "lyrics.count(\"pop it like it's hot\")"
   ]
  },
  {
   "cell_type": "code",
   "execution_count": null,
   "metadata": {},
   "outputs": [],
   "source": [
    "lyrics.reverse()\n",
    "print(lyrics)"
   ]
  },
  {
   "cell_type": "code",
   "execution_count": null,
   "metadata": {},
   "outputs": [],
   "source": [
    "lyrics.index('Big')"
   ]
  },
  {
   "cell_type": "code",
   "execution_count": null,
   "metadata": {},
   "outputs": [],
   "source": [
    "lyrics.append(\"SSnnnnoooooooooooooooooouuuuuu -- P\")\n",
    "print(lyrics)"
   ]
  },
  {
   "cell_type": "markdown",
   "metadata": {},
   "source": [
    "#### Nested Lists"
   ]
  },
  {
   "cell_type": "code",
   "execution_count": null,
   "metadata": {},
   "outputs": [],
   "source": [
    "taco = [\"shell\",[\"cheese\",\"sour cream\"],[\"lettuce\", \"corn\", [\"hot peppers\", \"green peppers\"],\"tomatoes\"], [\"chicken\", \"beef\"]]\n",
    "print(taco)\n",
    "print(\"\")\n",
    "print(taco[0])\n",
    "print(taco[1][:2])\n",
    "print(taco[2][0])\n",
    "print(taco[2][2][1])\n",
    "print(taco[3][0])"
   ]
  },
  {
   "cell_type": "markdown",
   "metadata": {},
   "source": [
    "#### List Comprehension (or list logic)"
   ]
  },
  {
   "cell_type": "code",
   "execution_count": null,
   "metadata": {},
   "outputs": [],
   "source": [
    "num_of_tacos = [1,2,3,4,5]\n",
    "\n",
    "num_of_tacos * 2"
   ]
  },
  {
   "cell_type": "code",
   "execution_count": null,
   "metadata": {},
   "outputs": [],
   "source": [
    "print([x*2 for x in num_of_tacos])"
   ]
  },
  {
   "cell_type": "markdown",
   "metadata": {},
   "source": [
    "# Dictionaries"
   ]
  },
  {
   "cell_type": "code",
   "execution_count": null,
   "metadata": {},
   "outputs": [],
   "source": [
    "# dictionaries are not indexed\n",
    "\n",
    "taco_dict = {\"shell\":[\"soft\", \"hard\"], \n",
    "            \"meat\":[\"tofu\", \"fish\", \"chicken\", \"beef\"],\n",
    "            \"veggies\":[\"lettuce\", \"corn\", {\"peppers\":[\"hot pepper\", \"green pepper\"]}, \"tomato\", \"coleslaw\"],\n",
    "            \"cheese\":\"cheddar\",\n",
    "            \"sauce\": [\"guacamole\", \"salsa\", \"garlic\", \"hot\", \"sour cream\"]}\n",
    "\n",
    "print(taco_dict[\"shell\"][0])\n",
    "print(taco_dict[\"meat\"][2])\n",
    "print(taco_dict[\"veggies\"][0])\n",
    "print(taco_dict[\"veggies\"][2][\"peppers\"][0])\n",
    "print(taco_dict[\"cheese\"])\n",
    "print(*taco_dict[\"sauce\"][0:5])"
   ]
  },
  {
   "cell_type": "markdown",
   "metadata": {
    "collapsed": true
   },
   "source": [
    "#### Dictionary comprehensions"
   ]
  },
  {
   "cell_type": "code",
   "execution_count": null,
   "metadata": {},
   "outputs": [],
   "source": [
    "md = {\"a\":1, \"b\":2, \"c\":3, \"d\":4, \"e\":5}\n",
    "md2 = {x:int(str(y)*2) + 1 for x,y in md.items()}\n",
    "print(\"Dictionary comprehension result:\",md2)\n",
    "\n",
    "sports = [\"Soccer\", \"Football\", \"Hockey\", \"Basketball\", \"Golf\", \"Volleyball\"]\n",
    "mark_rating = [2,2,10,1,-40,0]\n",
    "mark_sports_rating = dict(zip(sports,mark_rating))\n",
    "print(\"Mark's enjoyment rating for sports:\", mark_sports_rating)\n",
    "\n"
   ]
  },
  {
   "cell_type": "markdown",
   "metadata": {},
   "source": [
    "#### Unpacking dictionaries"
   ]
  },
  {
   "cell_type": "code",
   "execution_count": null,
   "metadata": {},
   "outputs": [],
   "source": [
    "s, f, h, b, g, v = mark_sports_rating.items()\n",
    "print(s)\n",
    "print(f)\n",
    "print(h)\n",
    "print(b)\n",
    "print(g)\n",
    "print(v)\n",
    "\n",
    "print(\"These are tuples:\", type(s))"
   ]
  },
  {
   "cell_type": "markdown",
   "metadata": {},
   "source": [
    "# Methods"
   ]
  },
  {
   "cell_type": "code",
   "execution_count": null,
   "metadata": {},
   "outputs": [],
   "source": [
    "print(\"Dictionary keys:\\n\",taco_dict.keys(), \"\\n\")\n",
    "print(\"Dictionary values:\\n\",taco_dict.values(), \"\\n\")"
   ]
  },
  {
   "cell_type": "code",
   "execution_count": null,
   "metadata": {},
   "outputs": [],
   "source": [
    "# remove last item\n",
    "item = taco_dict.popitem()\n",
    "print(item)"
   ]
  },
  {
   "cell_type": "code",
   "execution_count": null,
   "metadata": {},
   "outputs": [],
   "source": [
    "# add item if it doesn't already exist ... kinda same as .setdefault()\n",
    "taco_dict.update({\"unwanted things\": [\"salmonella\", \"listeria\", \"E.coli\"]})\n",
    "print(taco_dict)"
   ]
  },
  {
   "cell_type": "code",
   "execution_count": null,
   "metadata": {},
   "outputs": [],
   "source": [
    "# clear and copy\n",
    "new_taco_dict = taco_dict.copy()\n",
    "print(\"Location in memory:\",\"\\n new:\",id(new_taco_dict), \"vs old:\",id(taco_dict))\n",
    "print(\"Items in out dictionary after clearing:\",taco_dict.clear())"
   ]
  },
  {
   "cell_type": "markdown",
   "metadata": {},
   "source": [
    "#### Mutability"
   ]
  },
  {
   "cell_type": "code",
   "execution_count": null,
   "metadata": {},
   "outputs": [],
   "source": [
    "taco_counter = {\"number of tacos\":1}\n",
    "print(\"No. of tacos before:\",taco_counter['number of tacos'])\n",
    "taco_counter['number of tacos'] = 100000000000000\n",
    "print(\"No. of tacos after:\",taco_counter['number of tacos'])"
   ]
  },
  {
   "cell_type": "markdown",
   "metadata": {},
   "source": [
    "#### Enumerate"
   ]
  },
  {
   "cell_type": "markdown",
   "metadata": {},
   "source": [
    "Enumerate is a cool function that returns a consumable list of items and their corresponding numbers. In english this means you get a list that empties out as you read it."
   ]
  },
  {
   "cell_type": "code",
   "execution_count": null,
   "metadata": {},
   "outputs": [],
   "source": [
    "bucket_list = [\"Bucket of Fried Chicken\", \"Bucket of Shrimp\", \n",
    "               \"Bucket of Tartar Sauce\", \"Bucket of Chili\", \n",
    "               \"Bucket of Popcorn\", \"Bucket of Cholesterol Medicine\"]\n",
    "bucket_enumerator = enumerate(bucket_list, start=1)\n",
    "print(\"Returns enumerator object:\",bucket_enumerator)\n",
    "print(\"\")\n",
    "print(\"Returns list of tuples in list comprehension:\\n\",[x for x in bucket_enumerator])\n",
    "print(\"What's in our enumerate object after being read?\",[x for x in bucket_enumerator])\n",
    "print(\"\")\n",
    "bucket_enumerator = enumerate(bucket_list, start=1)\n",
    "print(\"You can also make it a dictionary:\", {x:y for x,y in bucket_enumerator})\n"
   ]
  },
  {
   "cell_type": "markdown",
   "metadata": {},
   "source": [
    "# Tuples"
   ]
  },
  {
   "cell_type": "code",
   "execution_count": null,
   "metadata": {},
   "outputs": [],
   "source": [
    "taco_tuple = (\"beef taco\", \"chicken taco\", \"fish taco\")\n",
    "print(taco_tuple)"
   ]
  },
  {
   "cell_type": "code",
   "execution_count": null,
   "metadata": {},
   "outputs": [],
   "source": [
    "print(\"how many beef tacos?:\",taco_tuple.count('beef taco'))\n",
    "print(\"what index is fish taco at?:\",taco_tuple.index('fish taco'))"
   ]
  },
  {
   "cell_type": "code",
   "execution_count": null,
   "metadata": {},
   "outputs": [],
   "source": [
    "taco_dict = {\"shell\":[\"soft\", \"hard\"], \n",
    "            \"meat\":[\"tofu\", \"fish\", \"chicken\", \"beef\"],\n",
    "            \"veggies\":[\"lettuce\", \"corn\", {\"peppers\":[\"hot pepper\", \"green pepper\"]}, \"tomato\", \"coleslaw\"],\n",
    "            \"cheese\":\"cheddar\",\n",
    "            \"sauce\": [\"guacamole\", \"salsa\", \"garlic\", \"hot\", \"sour cream\"]}\n",
    "\n",
    "key_list = list(taco_dict.keys())\n",
    "\n",
    "beef_taco = [(key_list[0], taco_dict[\"shell\"][1]), \n",
    "             (key_list[1], taco_dict[\"meat\"][3]), \n",
    "             (key_list[2], taco_dict[\"veggies\"][0]), \n",
    "             (key_list[2], taco_dict[\"veggies\"][4]), \n",
    "             (key_list[3], taco_dict[\"cheese\"]),\n",
    "             (key_list[4], taco_dict[\"sauce\"][3])]\n",
    "\n",
    "print(beef_taco)"
   ]
  },
  {
   "cell_type": "markdown",
   "metadata": {
    "collapsed": true
   },
   "source": [
    "#### Immutability"
   ]
  },
  {
   "cell_type": "code",
   "execution_count": null,
   "metadata": {},
   "outputs": [],
   "source": [
    "# try to change the type of shell in our taco to taco bowl\n",
    "beef_taco[0][1] = \"delicious taco bowl\""
   ]
  },
  {
   "cell_type": "markdown",
   "metadata": {},
   "source": [
    "#### Generators"
   ]
  },
  {
   "cell_type": "code",
   "execution_count": null,
   "metadata": {},
   "outputs": [],
   "source": [
    "# Using Euler's number\n",
    "numbers = ((2.71828 ** (2*x)) for x in range(100))\n",
    "print(\"Creates a generator object:\",numbers)"
   ]
  },
  {
   "cell_type": "code",
   "execution_count": null,
   "metadata": {},
   "outputs": [],
   "source": [
    "print(next(numbers))"
   ]
  },
  {
   "cell_type": "markdown",
   "metadata": {},
   "source": [
    "# Sets and Scope"
   ]
  },
  {
   "cell_type": "code",
   "execution_count": null,
   "metadata": {},
   "outputs": [],
   "source": [
    "baby_lyrics = [\"and\", \"I\", \"was\", \"like\", \"baby\", \"baby\", \"baby\", \"oh\",\n",
    "               \"like\", \"baby\", \"baby\", \"baby\", \"no\",\n",
    "               \"like\", \"baby\", \"baby\", \"baby\", \"oh\",\n",
    "               \"I\", \"thought\", \"you'd\", \"always\", \"be\", \"mine\"]\n",
    "baby_lyrics_set = set(baby_lyrics)\n",
    "tuple_set = {(1,2,3), (1,2,3), (3,4,5)}\n",
    "number_set = {1,2,3,1,2,3,3,4,5}\n",
    "\n",
    "print(\"Baby lyrics as a list:\", baby_lyrics, \"\\n\")\n",
    "print(\"Baby lyrics in a set:\",baby_lyrics_set, \"\\n\")\n",
    "print(\"Set of tuples:\",tuple_set)\n",
    "print(\"Number set:\",number_set, \"\\n\")\n",
    "\n",
    "# Using list logic comprehension inside a set\n",
    "num_list = [1,5,3,6,2,3,4,3,7,6,7,6]\n",
    "num3_list = [x*3 for x in num_list]\n",
    "print(num3_list)\n",
    "print(set(num3_list))"
   ]
  },
  {
   "cell_type": "markdown",
   "metadata": {},
   "source": [
    "## Practice Time!"
   ]
  },
  {
   "cell_type": "code",
   "execution_count": null,
   "metadata": {
    "collapsed": true
   },
   "outputs": [],
   "source": [
    "positive_affirmations = [\"Every body is a bikini body\", \"You are better than unicorns and sparkles combined\",\n",
    "                        \"You had no plans to be amazing today, but shit happens\",\n",
    "                        \"Don't change your awesome self ... unless you're a jerk ... then change\"]"
   ]
  },
  {
   "cell_type": "markdown",
   "metadata": {},
   "source": [
    "1. Enumerate the list into a dictionary with keys of 5,10,15,20 and values of the 4 motivational quotes\n",
    "2. Understand that all effort progresses naturally to the entropic embrace of failure\n",
    "3. Read affirmations and become happy again\n",
    "4. Using our enumerated dictionary, return and iterate through a generator of 4 True values.\n",
    "5. Read affirmations and become happy again"
   ]
  }
 ],
 "metadata": {
  "kernelspec": {
   "display_name": "Python 3",
   "language": "python",
   "name": "python3"
  },
  "language_info": {
   "codemirror_mode": {
    "name": "ipython",
    "version": 3
   },
   "file_extension": ".py",
   "mimetype": "text/x-python",
   "name": "python",
   "nbconvert_exporter": "python",
   "pygments_lexer": "ipython3",
   "version": "3.6.3"
  }
 },
 "nbformat": 4,
 "nbformat_minor": 2
}
