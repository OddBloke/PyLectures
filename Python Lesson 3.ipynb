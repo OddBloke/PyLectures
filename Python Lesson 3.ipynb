{
 "cells": [
  {
   "cell_type": "markdown",
   "metadata": {},
   "source": [
    "# Looping and if / else"
   ]
  },
  {
   "cell_type": "markdown",
   "metadata": {},
   "source": [
    "A little girl goes into a pet store and asks for a rabbit. \n",
    "The shop keeper looks down at her, smiles and says:\n",
    "-- \"Would you like a cute white rabbit, or a fluffy brown rabbit?\"\n",
    "-- \"Actually\", says the little girl, \"I don't think my pet python would care.\""
   ]
  },
  {
   "cell_type": "code",
   "execution_count": null,
   "metadata": {},
   "outputs": [],
   "source": [
    "bunnies_list = [\"white and fluffy\", \"brown and short haired\", \"black and long eared\", \"beige and long haired\"]\n",
    "\n",
    "for bunny in bunnies_list:\n",
    "    print(\"Mr. Python thinks\",bunny,\"bunnies are delicious! ... nom nom nom nom\")"
   ]
  },
  {
   "cell_type": "code",
   "execution_count": null,
   "metadata": {},
   "outputs": [],
   "source": [
    "bunnies_list = [\"white and fluffy\", \"brown and short haired\", \"black and long eared\", \"beige and long haired\"]\n",
    "your_name = \"Mark\"\n",
    "bunnies_list = bunnies_list + [\"bunny shaped rock\", your_name]\n",
    "\n",
    "for bunny in bunnies_list:\n",
    "    if bunny == \"bunny shaped rock\":\n",
    "        print(\"Mr. Python doesn't like the taste of the\",bunny)\n",
    "    elif bunny == \"Mark\":\n",
    "        print(\"Mr. Python thinks\",bunny,\"is a pretty wierd looking delicious bunny!\")\n",
    "    else:\n",
    "        print(\"Mr. Python thinks\",bunny,\"bunnies are delicious! ... nom nom nom nom\")"
   ]
  },
  {
   "cell_type": "code",
   "execution_count": null,
   "metadata": {},
   "outputs": [],
   "source": [
    "python_stomach_capacity = 10\n",
    "delicious_bunnies_eaten = 0\n",
    "bunny_list = [\"bunny 1\", \"bunny 2\", \"bunny 3\",\n",
    "              \"bunny 4\", \"bunny 5\", \"bunny 6\",\n",
    "              \"bunny 7\", \"bunny 8\", \"bunny 9\",\n",
    "              \"bunny 10\", \"bunny 11\", \"bunny 12\",\n",
    "              \"bunny 13\", \"bunny 14\", \"bunny 15\"]\n",
    "\n",
    "while delicious_bunnies_eaten < python_stomach_capacity:\n",
    "    selected_bunny = bunny_list.pop()\n",
    "    delicious_bunnies_eaten = delicious_bunnies_eaten +1 #or delicious_bunnies_eaten += 1\n",
    "    print(\"Mr. Python just made a snack of\", selected_bunny, \"and has eaten\",delicious_bunnies_eaten, \"bunny snacks!\")\n",
    "    print(\"There are\",len(bunny_list), \"bunnies remaining\")\n",
    "    "
   ]
  },
  {
   "cell_type": "markdown",
   "metadata": {
    "collapsed": true
   },
   "source": [
    "#### Making a pseudo dataframe"
   ]
  },
  {
   "cell_type": "code",
   "execution_count": null,
   "metadata": {
    "scrolled": false
   },
   "outputs": [],
   "source": [
    "char_list = [\"Luke\", \"Han\", \"Chewie\", \"Leia\", \"Darth Vader\", \"Boba Fett\"]\n",
    "weapon_list = [\"Lightsaber\", \"Blaster\", \"Cross Bow\", \"Blaster\", \"Lightsaber\",\"Blaster\"]\n",
    "job_list = [\"Jedi\", \"Smuggler\", \"Warrior\", \"Princess\", \"Sith Lord\", \"Bounty Hunter\"]\n",
    "force_side = [\"Light\", \"Light\", \"Light\", \"Light\", \"Dark\", \"Dark\"]\n",
    "power_level = [8, 3, 4, 6, 8, 4]\n",
    "\n",
    "sw_df = [x for x in zip(char_list, weapon_list, job_list, force_side, power_level)]\n",
    "print(sw_df)\n",
    "print(\"\")\n",
    "print(sw_df[0])\n",
    "print(sw_df[1])\n",
    "print(sw_df[2])\n",
    "print(sw_df[3])\n",
    "print(sw_df[4])\n",
    "print(sw_df[5])"
   ]
  },
  {
   "cell_type": "code",
   "execution_count": null,
   "metadata": {},
   "outputs": [],
   "source": [
    "char_count = 0\n",
    "for char in sw_df:\n",
    "    print(\"My name is:\", char[0])\n",
    "    print(\"I wield a:\", char[1])\n",
    "    print(\"I am a:\", char[2])\n",
    "    print(\"I'm on the\",char[3],\"side\")\n",
    "    print(\"\")\n",
    "        "
   ]
  },
  {
   "cell_type": "code",
   "execution_count": null,
   "metadata": {},
   "outputs": [],
   "source": [
    "index_pairs = [(0,1), (0,2), (0,3), (0,4), (0,5),\n",
    "               (1,2), (1,3), (1,4), (1,5),\n",
    "               (2,3), (2,4), (2,5),\n",
    "               (3,4), (3,5), \n",
    "               (4,5)]\n",
    "winner_count = {x[0]:0 for x in sw_df}\n",
    "\n",
    "for ind in index_pairs:\n",
    "    pa = sw_df[ind[0]][0:5:4]\n",
    "    pb = sw_df[ind[1]][0:5:4]\n",
    "    print(*pa,\"vs\",*pb)\n",
    "    if pa[1] > pb[1]:\n",
    "        print(\"winner is\", pa[0], \"by\", pa[1]-pb[1])  \n",
    "        winner_count[pa[0]] = winner_count[pa[0]] + 1\n",
    "    elif pa[1] < pb[1]:\n",
    "        print(\"winner is\", pb[0], \"by\", pb[1]-pa[1]) \n",
    "        winner_count[pb[0]] = winner_count[pb[0]] + 1\n",
    "    else:\n",
    "        print(\"Awkward tie ...\")\n",
    "    print(\"\")\n",
    "    \n",
    "print(winner_count)"
   ]
  },
  {
   "cell_type": "markdown",
   "metadata": {},
   "source": [
    "## Practice Time!"
   ]
  },
  {
   "cell_type": "markdown",
   "metadata": {},
   "source": [
    "#### Given this list of positive words and 3 reviews, which review contains the most positive words?"
   ]
  },
  {
   "cell_type": "code",
   "execution_count": null,
   "metadata": {},
   "outputs": [],
   "source": [
    "positive_words = ['clean', 'happiness', 'love', 'happy', 'satisfied', 'satisfy', 'laugh', 'enjoy', 'excellent',\n",
    "               'laughs', 'joy', 'successful', 'win', 'quick', 'smile', 'won', 'pleasure']"
   ]
  },
  {
   "cell_type": "code",
   "execution_count": null,
   "metadata": {
    "collapsed": true
   },
   "outputs": [],
   "source": [
    "review_1 = '''Just got some food there tonight and a woman i believe was a manager for some reason \n",
    "            made direct eye contact with me the entire time, made me feel extremely uncomfortable. \n",
    "            She didn't even stop when I noticed and returned eye contact, and she even went over to \n",
    "            the fry loader and just stood there holding an empty fryer basket staring at me through the fixtures. \n",
    "            Might be because I have beef with a guy who got fired for stealing money from there yet still has friends \n",
    "            who work for these guys. I've also gotten sandwiches with mods like no pickles, and they stick the little slip \n",
    "            on it but put the pickles on anyways, and in the summertime they seem to be infested with flies.\n",
    "            '''\n",
    "\n",
    "review_2 = '''Well run restaurant with quick working staff and clean seating areas. The large touch screens allow you \n",
    "            to browse the menu and customize your order in ways that can't be done by ordering regularly. It's clean \n",
    "            and up to date. There is table service and you can order right from the tables on mobile if you wish to. \n",
    "            The playplace is clean and it's usually not too busy. It's an enjoyable place to grab cheap food quickly.\n",
    "            '''\n",
    "\n",
    "review_3 = '''I ordered a burger. when it was served to me I checked it as twice last \n",
    "            week they screwed up my order too so after I check this time before leaving drivethru they gave \n",
    "            me the wrong burger again this week so i returned it buddy appologized came back with another bag \n",
    "            and reassured me twice it was what i want so I drove off (stupid me) with out checking \n",
    "            again. when I got down town to eat during my half hour break from work I opened the burger to find it was \n",
    "            the wrong burger again!!! I drove all the way back up town went into the restraunt informed the worker \n",
    "            this was the wrong burger for the second time and what it was supposed to be the worker turned away and \n",
    "            stated thats odd we have only sold one type burger today. This is when I stopped myself \n",
    "            from jumping the counter and confronting the employee for calling me liar. Another worker very quickly \n",
    "            got me the correct burger FINALLY and I was on my way back to work as my break was now over... \n",
    "            Never coming here again!!!\n",
    "            '''"
   ]
  },
  {
   "cell_type": "markdown",
   "metadata": {},
   "source": [
    " "
   ]
  },
  {
   "cell_type": "code",
   "execution_count": null,
   "metadata": {
    "collapsed": true
   },
   "outputs": [],
   "source": [
    "## TRY HERE!!\n",
    "\n",
    "\n",
    "\n",
    "\n",
    "\n",
    "\n",
    "\n",
    "\n",
    "\n",
    "\n",
    "\n",
    "\n",
    "\n",
    "\n",
    "\n",
    "\n",
    "\n",
    "\n",
    "\n",
    "\n",
    "\n",
    "\n",
    "\n",
    "\n",
    "\n"
   ]
  },
  {
   "cell_type": "markdown",
   "metadata": {},
   "source": [
    "### ANSWER!!"
   ]
  },
  {
   "cell_type": "code",
   "execution_count": null,
   "metadata": {},
   "outputs": [],
   "source": [
    "rev_list = [(review_1, \"review-1\"), (review_2, \"review-2\"), (review_3, \"review-3\")]\n",
    "dict_count = {\"review-1\":[],\n",
    "              \"review-2\":[],\n",
    "              \"review-3\":[]}\n",
    "for word in positive_words:\n",
    "    for x in rev_list:\n",
    "        if x[0].find(word) > 0: \n",
    "            dict_count[x[1]].append(word)\n",
    "\n",
    "print(dict_count)"
   ]
  }
 ],
 "metadata": {
  "kernelspec": {
   "display_name": "Python 3",
   "language": "python",
   "name": "python3"
  },
  "language_info": {
   "codemirror_mode": {
    "name": "ipython",
    "version": 3
   },
   "file_extension": ".py",
   "mimetype": "text/x-python",
   "name": "python",
   "nbconvert_exporter": "python",
   "pygments_lexer": "ipython3",
   "version": "3.6.3"
  }
 },
 "nbformat": 4,
 "nbformat_minor": 2
}
